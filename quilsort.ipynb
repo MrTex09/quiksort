{
 "cells": [
  {
   "cell_type": "code",
   "execution_count": 11,
   "metadata": {},
   "outputs": [],
   "source": [
    "def particion(arr, bajo, alto):\n",
    "    i = bajo - 1  # Índice del elemento más pequeño\n",
    "    pivote = arr[alto]  # Pivote seleccionado como el último elemento\n",
    "\n",
    "    for j in range(bajo, alto):\n",
    "        if arr[j] <= pivote:\n",
    "            i += 1\n",
    "            arr[i], arr[j] = arr[j], arr[i]  # Intercambiar\n",
    "\n",
    "    arr[i + 1], arr[alto] = arr[alto], arr[i + 1]\n",
    "    return i + 1"
   ]
  },
  {
   "cell_type": "code",
   "execution_count": 12,
   "metadata": {},
   "outputs": [],
   "source": [
    "def quicksort(arr, bajo, alto):\n",
    "    if bajo < alto:\n",
    "        pi = particion(arr, bajo, alto)\n",
    "        quicksort(arr, bajo, pi - 1)\n",
    "        quicksort(arr, pi + 1, alto)"
   ]
  },
  {
   "cell_type": "code",
   "execution_count": 13,
   "metadata": {},
   "outputs": [],
   "source": [
    "def ordenar(arr):\n",
    "    quicksort(arr, 0, len(arr) - 1)\n"
   ]
  },
  {
   "cell_type": "code",
   "execution_count": 16,
   "metadata": {},
   "outputs": [
    {
     "name": "stdout",
     "output_type": "stream",
     "text": [
      "Lista original 1: [34, -2, 78, 0, -42, 8, 19, 3]\n",
      "Lista ordenada 1: [-42, -2, 0, 3, 8, 19, 34, 78]\n",
      "Lista original 2: [1, 2, 3, 4, 5, 6, 7, 8, 9, 10]\n",
      "Lista ordenada 2: [1, 2, 3, 4, 5, 6, 7, 8, 9, 10]\n",
      "Lista original 3: [10, 9, 8, 7, 6, 5, 4, 3, 2, 1]\n",
      "Lista ordenada 3: [1, 2, 3, 4, 5, 6, 7, 8, 9, 10]\n"
     ]
    }
   ],
   "source": [
    "if __name__ == \"__main__\":\n",
    "#  Lista desordenada con números positivos y negativos\n",
    "    lista1 = [34, -2, 78, 0, -42, 8, 19, 3]\n",
    "    print(\"Lista original 1:\", lista1)\n",
    "    ordenar(lista1)\n",
    "    print(\"Lista ordenada 1:\", lista1)\n",
    "\n",
    "    #  Lista ya ordenada\n",
    "    lista2 = [1, 2, 3, 4, 5, 6, 7, 8, 9, 10]\n",
    "    print(\"Lista original 2:\", lista2)\n",
    "    ordenar(lista2)\n",
    "    print(\"Lista ordenada 2:\", lista2)\n",
    "\n",
    "    # Lista en orden inverso\n",
    "    lista3 = [10, 9, 8, 7, 6, 5, 4, 3, 2, 1]\n",
    "    print(\"Lista original 3:\", lista3)\n",
    "    ordenar(lista3)\n",
    "    print(\"Lista ordenada 3:\", lista3)"
   ]
  }
 ],
 "metadata": {
  "kernelspec": {
   "display_name": "Python 3",
   "language": "python",
   "name": "python3"
  },
  "language_info": {
   "codemirror_mode": {
    "name": "ipython",
    "version": 3
   },
   "file_extension": ".py",
   "mimetype": "text/x-python",
   "name": "python",
   "nbconvert_exporter": "python",
   "pygments_lexer": "ipython3",
   "version": "3.12.2"
  }
 },
 "nbformat": 4,
 "nbformat_minor": 2
}
